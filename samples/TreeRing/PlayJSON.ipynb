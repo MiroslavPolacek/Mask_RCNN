{
 "cells": [
  {
   "cell_type": "code",
   "execution_count": 4,
   "metadata": {},
   "outputs": [],
   "source": [
    "import os\n",
    "import sys\n",
    "import json\n",
    "import datetime\n",
    "import numpy as np\n",
    "import skimage.draw\n",
    "import copy\n",
    "\n",
    "ROOT_DIR = os.path.abspath(\"../../\")\n",
    "DIR = os.path.join(ROOT_DIR, \"datasets/treering/val\")"
   ]
  },
  {
   "cell_type": "code",
   "execution_count": 3,
   "metadata": {},
   "outputs": [
    {
     "data": {
      "text/plain": [
       "[0, 1, 2, 3, 4, 5]"
      ]
     },
     "execution_count": 3,
     "metadata": {},
     "output_type": "execute_result"
    }
   ],
   "source": [
    "vec = list(range(6))\n",
    "vec"
   ]
  },
  {
   "cell_type": "code",
   "execution_count": 6,
   "metadata": {},
   "outputs": [
    {
     "name": "stdout",
     "output_type": "stream",
     "text": [
      "Which image:   RSA1A_8-Image Export-09.jpg1975852\n",
      "imageKeys:   filename\n",
      "imageKeys:   size\n",
      "imageKeys:   regions\n",
      "unsortedRegions:   [{'shape_attributes': {'name': 'polyline', 'all_points_x': [428, 416, 427, 430, 427, 420, 439, 434, 447, 444, 455, 452, 451, 458, 453, 453, 434, 437, 430, 420, 418, 427, 435, 429, 435, 425, 428, 423, 433, 439, 427, 434, 434, 442, 446, 444, 439], 'all_points_y': [10, 47, 101, 161, 172, 175, 281, 323, 418, 490, 603, 656, 660, 673, 697, 761, 886, 923, 967, 1040, 1064, 1091, 1115, 1206, 1261, 1300, 1341, 1452, 1515, 1545, 1603, 1632, 1672, 1746, 1794, 1851, 1876]}, 'region_attributes': {'Ring': ''}}, {'shape_attributes': {'name': 'polyline', 'all_points_x': [1439, 1425, 1421, 1427, 1415, 1419, 1411, 1421, 1424, 1427, 1423, 1421, 1412, 1407, 1410, 1396, 1400, 1393, 1392, 1389, 1384, 1373, 1386, 1396, 1396, 1393, 1389], 'all_points_y': [34, 130, 197, 273, 361, 448, 521, 572, 623, 678, 793, 882, 983, 1004, 1065, 1181, 1281, 1324, 1382, 1455, 1580, 1622, 1674, 1719, 1766, 1824, 1879]}, 'region_attributes': {'Ring': ''}}, {'shape_attributes': {'name': 'polyline', 'all_points_x': [2333, 2337, 2351, 2332, 2329, 2314, 2310, 2314, 2323, 2313, 2312, 2320, 2335, 2338, 2331, 2320, 2310, 2313, 2308, 2290, 2278, 2301, 2282, 2263, 2269, 2272, 2253], 'all_points_y': [13, 43, 46, 70, 88, 114, 151, 174, 194, 218, 238, 266, 308, 354, 415, 533, 659, 750, 821, 1028, 1255, 1356, 1549, 1667, 1732, 1770, 1838]}, 'region_attributes': {'Ring': ''}}]\n",
      "sortRegions:   {'goodRegions': [{'shape_attributes': {'name': 'polyline', 'all_points_x': [428, 416, 427, 430, 427, 420, 439, 434, 447, 444, 455, 452, 451, 458, 453, 453, 434, 437, 430, 420, 418, 427, 435, 429, 435, 425, 428, 423, 433, 439, 427, 434, 434, 442, 446, 444, 439], 'all_points_y': [10, 47, 101, 161, 172, 175, 281, 323, 418, 490, 603, 656, 660, 673, 697, 761, 886, 923, 967, 1040, 1064, 1091, 1115, 1206, 1261, 1300, 1341, 1452, 1515, 1545, 1603, 1632, 1672, 1746, 1794, 1851, 1876]}, 'region_attributes': {'Ring': ''}}, {'shape_attributes': {'name': 'polyline', 'all_points_x': [1439, 1425, 1421, 1427, 1415, 1419, 1411, 1421, 1424, 1427, 1423, 1421, 1412, 1407, 1410, 1396, 1400, 1393, 1392, 1389, 1384, 1373, 1386, 1396, 1396, 1393, 1389], 'all_points_y': [34, 130, 197, 273, 361, 448, 521, 572, 623, 678, 793, 882, 983, 1004, 1065, 1181, 1281, 1324, 1382, 1455, 1580, 1622, 1674, 1719, 1766, 1824, 1879]}, 'region_attributes': {'Ring': ''}}, {'shape_attributes': {'name': 'polyline', 'all_points_x': [2333, 2337, 2351, 2332, 2329, 2314, 2310, 2314, 2323, 2313, 2312, 2320, 2335, 2338, 2331, 2320, 2310, 2313, 2308, 2290, 2278, 2301, 2282, 2263, 2269, 2272, 2253], 'all_points_y': [13, 43, 46, 70, 88, 114, 151, 174, 194, 218, 238, 266, 308, 354, 415, 533, 659, 750, 821, 1028, 1255, 1356, 1549, 1667, 1732, 1770, 1838]}, 'region_attributes': {'Ring': ''}}], 'orderX': array([0, 1, 2])}\n",
      "orderX:  [0 1 2]\n",
      "0\n",
      "firstRegion:  {'name': 'polyline', 'all_points_x': [428, 416, 427, 430, 427, 420, 439, 434, 447, 444, 455, 452, 451, 458, 453, 453, 434, 437, 430, 420, 418, 427, 435, 429, 435, 425, 428, 423, 433, 439, 427, 434, 434, 442, 446, 444, 439], 'all_points_y': [10, 47, 101, 161, 172, 175, 281, 323, 418, 490, 603, 656, 660, 673, 697, 761, 886, 923, 967, 1040, 1064, 1091, 1115, 1206, 1261, 1300, 1341, 1452, 1515, 1545, 1603, 1632, 1672, 1746, 1794, 1851, 1876]}\n",
      "secondRegion:  {'name': 'polyline', 'all_points_x': [1439, 1425, 1421, 1427, 1415, 1419, 1411, 1421, 1424, 1427, 1423, 1421, 1412, 1407, 1410, 1396, 1400, 1393, 1392, 1389, 1384, 1373, 1386, 1396, 1396, 1393, 1389], 'all_points_y': [34, 130, 197, 273, 361, 448, 521, 572, 623, 678, 793, 882, 983, 1004, 1065, 1181, 1281, 1324, 1382, 1455, 1580, 1622, 1674, 1719, 1766, 1824, 1879]}\n",
      "newAtt:  {'name': 'polygon', 'all_points_x': [428, 416, 427, 430, 427, 420, 439, 434, 447, 444, 455, 452, 451, 458, 453, 453, 434, 437, 430, 420, 418, 427, 435, 429, 435, 425, 428, 423, 433, 439, 427, 434, 434, 442, 446, 444, 439, 1389, 1393, 1396, 1396, 1386, 1373, 1384, 1389, 1392, 1393, 1400, 1396, 1410, 1407, 1412, 1421, 1423, 1427, 1424, 1421, 1411, 1419, 1415, 1427, 1421, 1425, 1439], 'all_points_y': [10, 47, 101, 161, 172, 175, 281, 323, 418, 490, 603, 656, 660, 673, 697, 761, 886, 923, 967, 1040, 1064, 1091, 1115, 1206, 1261, 1300, 1341, 1452, 1515, 1545, 1603, 1632, 1672, 1746, 1794, 1851, 1876, 1879, 1824, 1766, 1719, 1674, 1622, 1580, 1455, 1382, 1324, 1281, 1181, 1065, 1004, 983, 882, 793, 678, 623, 572, 521, 448, 361, 273, 197, 130, 34]}\n",
      "1\n",
      "firstRegion:  {'name': 'polyline', 'all_points_x': [1439, 1425, 1421, 1427, 1415, 1419, 1411, 1421, 1424, 1427, 1423, 1421, 1412, 1407, 1410, 1396, 1400, 1393, 1392, 1389, 1384, 1373, 1386, 1396, 1396, 1393, 1389], 'all_points_y': [34, 130, 197, 273, 361, 448, 521, 572, 623, 678, 793, 882, 983, 1004, 1065, 1181, 1281, 1324, 1382, 1455, 1580, 1622, 1674, 1719, 1766, 1824, 1879]}\n",
      "secondRegion:  {'name': 'polyline', 'all_points_x': [2333, 2337, 2351, 2332, 2329, 2314, 2310, 2314, 2323, 2313, 2312, 2320, 2335, 2338, 2331, 2320, 2310, 2313, 2308, 2290, 2278, 2301, 2282, 2263, 2269, 2272, 2253], 'all_points_y': [13, 43, 46, 70, 88, 114, 151, 174, 194, 218, 238, 266, 308, 354, 415, 533, 659, 750, 821, 1028, 1255, 1356, 1549, 1667, 1732, 1770, 1838]}\n",
      "newAtt:  {'name': 'polygon', 'all_points_x': [1439, 1425, 1421, 1427, 1415, 1419, 1411, 1421, 1424, 1427, 1423, 1421, 1412, 1407, 1410, 1396, 1400, 1393, 1392, 1389, 1384, 1373, 1386, 1396, 1396, 1393, 1389, 2253, 2272, 2269, 2263, 2282, 2301, 2278, 2290, 2308, 2313, 2310, 2320, 2331, 2338, 2335, 2320, 2312, 2313, 2323, 2314, 2310, 2314, 2329, 2332, 2351, 2337, 2333], 'all_points_y': [34, 130, 197, 273, 361, 448, 521, 572, 623, 678, 793, 882, 983, 1004, 1065, 1181, 1281, 1324, 1382, 1455, 1580, 1622, 1674, 1719, 1766, 1824, 1879, 1838, 1770, 1732, 1667, 1549, 1356, 1255, 1028, 821, 750, 659, 533, 415, 354, 308, 266, 238, 218, 194, 174, 151, 114, 88, 70, 46, 43, 13]}\n",
      "imageKeys:   file_attributes\n"
     ]
    }
   ],
   "source": [
    "import json\n",
    "import numpy as np\n",
    "import copy\n",
    " \n",
    "def getRegion(imageV,type = 'Ring'):\n",
    "    goodRegions = []\n",
    "    orderX = []\n",
    "    it = iter(imageV)\n",
    "    for region in it:\n",
    "        regAtt = region['region_attributes']\n",
    "        shAtt = region['shape_attributes']\n",
    "        if shAtt['name'] == 'polyline':\n",
    "            for regk, regv in regAtt.items():\n",
    "                if regk == type or regv == type:\n",
    "                    goodRegions.append(region)\n",
    "                    orderX.append(np.average(shAtt['all_points_x']))\n",
    "    if not goodRegions:\n",
    "        print(\"No data\")\n",
    "        return None\n",
    "    return {'goodRegions':goodRegions, 'orderX':(np.argsort(orderX))}\n",
    " \n",
    "newJ = {}\n",
    "shpAttrBase = {'name':'polygon'}\n",
    "with open(os.path.join(DIR, 'via_region_data.json'),'r') as json_file:\n",
    "    dct = json.load(json_file)\n",
    "    for image, imageAtt in dct.items():\n",
    "        print(\"Which image:\",' ',image)\n",
    "        newJ[image] = {}\n",
    "        for imageK, imageV in imageAtt.items():\n",
    "            print(\"imageKeys:\",' ',imageK)\n",
    "            if imageK == 'regions':\n",
    "                print(\"unsortedRegions:\",' ',imageV)\n",
    "                sortRegions = getRegion(imageV,type='Ring')\n",
    "                if sortRegions == None:\n",
    "                    print(\"continue, no sortRegions\")\n",
    "                    continue;\n",
    "                print(\"sortRegions:\",' ',sortRegions)\n",
    "                print('orderX: ',sortRegions['orderX'])\n",
    "                shpAtt = shpAttrBase.copy()\n",
    "                newJ[image]['regions'] = []\n",
    "                for i in range(len(sortRegions['orderX'])-1):\n",
    "                    print(i)\n",
    "                    firstRegion = sortRegions['goodRegions'][sortRegions['orderX'][i]]['shape_attributes']\n",
    "                    secondRegion = sortRegions['goodRegions'][sortRegions['orderX'][i+1]]['shape_attributes']\n",
    "                    print('firstRegion: ',firstRegion)\n",
    "                    print('secondRegion: ',secondRegion)\n",
    "                    shpAtt['all_points_x'] = firstRegion['all_points_x'] + secondRegion['all_points_x'][::-1]\n",
    "                    shpAtt['all_points_y'] = firstRegion['all_points_y'] + secondRegion['all_points_y'][::-1]\n",
    "                    print('newAtt: ',shpAtt)\n",
    "                    regions = {'shape_attributes':shpAtt,'region_attributes':{'type':'RingBndy'}}\n",
    "                    newJ[image]['regions'].append(copy.deepcopy(regions))\n",
    "            else:\n",
    "                #print(imageV)\n",
    "                try:\n",
    "                    newJ[image][imageK] = imageV\n",
    "                except:\n",
    "                    print(\"can't append:\",' ',imageK,\",\",imageV)\n",
    "        with open(os.path.join(DIR,'via_region_data_transform.json'),'w') as outfile:\n",
    "            json.dump(newJ, outfile,indent=4)"
   ]
  }
 ],
 "metadata": {
  "kernelspec": {
   "display_name": "Python 3",
   "language": "python",
   "name": "python3"
  },
  "language_info": {
   "codemirror_mode": {
    "name": "ipython",
    "version": 3
   },
   "file_extension": ".py",
   "mimetype": "text/x-python",
   "name": "python",
   "nbconvert_exporter": "python",
   "pygments_lexer": "ipython3",
   "version": "3.7.3"
  }
 },
 "nbformat": 4,
 "nbformat_minor": 2
}
